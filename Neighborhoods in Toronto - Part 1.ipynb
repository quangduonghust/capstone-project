{
    "cells": [
        {
            "cell_type": "markdown",
            "metadata": {},
            "source": "## Scrape data from Wikipedia page"
        },
        {
            "cell_type": "code",
            "execution_count": 21,
            "metadata": {},
            "outputs": [
                {
                    "name": "stdout",
                    "output_type": "stream",
                    "text": "Libraries imported.\n"
                }
            ],
            "source": "import numpy as np # library to handle data in a vectorized manner\nimport pandas as pd # library for data analsysis\npd.set_option('display.max_columns', None)\npd.set_option('display.max_rows', None)\nimport json # library to handle JSON files\n#!conda install -c conda-forge geopy --yes # uncomment this line if you haven't completed the Foursquare API lab\nfrom geopy.geocoders import Nominatim # convert an address into latitude and longitude values\nimport requests # library to handle requests\nfrom pandas.io.json import json_normalize # tranform JSON file into a pandas dataframe\n# Matplotlib and associated plotting modules\nimport matplotlib.cm as cm\nimport matplotlib.colors as colors\n# import k-means from clustering stage\nfrom sklearn.cluster import KMeans\nfrom sklearn.datasets.samples_generator import make_blobs\n#!conda install -c conda-forge folium=0.5.0 --yes # uncomment this line if you haven't completed the Foursquare API lab\nimport folium # map rendering library\nfrom bs4 import BeautifulSoup\nimport lxml\nprint('Libraries imported.')"
        },
        {
            "cell_type": "code",
            "execution_count": 22,
            "metadata": {},
            "outputs": [
                {
                    "name": "stdout",
                    "output_type": "stream",
                    "text": "Page Scrapped\n"
                }
            ],
            "source": "URL = \"https://en.wikipedia.org/wiki/List_of_postal_codes_of_Canada:_M\"\nr = requests.get(URL) \n  \nsoup = BeautifulSoup(r.text, 'html.parser') \ntable = soup.find('table', attrs = {'class':'wikitable sortable'}) \n\nprint('Page Scrapped')"
        },
        {
            "cell_type": "code",
            "execution_count": 63,
            "metadata": {},
            "outputs": [
                {
                    "data": {
                        "text/html": "<div>\n<style scoped>\n    .dataframe tbody tr th:only-of-type {\n        vertical-align: middle;\n    }\n\n    .dataframe tbody tr th {\n        vertical-align: top;\n    }\n\n    .dataframe thead th {\n        text-align: right;\n    }\n</style>\n<table border=\"1\" class=\"dataframe\">\n  <thead>\n    <tr style=\"text-align: right;\">\n      <th></th>\n      <th>Postal_code</th>\n      <th>Borough</th>\n      <th>Neighborhood</th>\n    </tr>\n  </thead>\n  <tbody>\n    <tr>\n      <th>0</th>\n      <td>M3A</td>\n      <td>North York</td>\n      <td>Parkwoods</td>\n    </tr>\n    <tr>\n      <th>1</th>\n      <td>M4A</td>\n      <td>North York</td>\n      <td>Victoria Village</td>\n    </tr>\n    <tr>\n      <th>2</th>\n      <td>M5A</td>\n      <td>Downtown Toronto</td>\n      <td>Regent Park, Harbourfront</td>\n    </tr>\n    <tr>\n      <th>3</th>\n      <td>M6A</td>\n      <td>North York</td>\n      <td>Lawrence Manor, Lawrence Heights</td>\n    </tr>\n    <tr>\n      <th>4</th>\n      <td>M7A</td>\n      <td>Downtown Toronto</td>\n      <td>Queen's Park, Ontario Provincial Government</td>\n    </tr>\n    <tr>\n      <th>5</th>\n      <td>M9A</td>\n      <td>Etobicoke</td>\n      <td>Islington Avenue</td>\n    </tr>\n    <tr>\n      <th>6</th>\n      <td>M1B</td>\n      <td>Scarborough</td>\n      <td>Malvern, Rouge</td>\n    </tr>\n    <tr>\n      <th>7</th>\n      <td>M3B</td>\n      <td>North York</td>\n      <td>Don Mills</td>\n    </tr>\n    <tr>\n      <th>8</th>\n      <td>M4B</td>\n      <td>East York</td>\n      <td>Parkview Hill, Woodbine Gardens</td>\n    </tr>\n    <tr>\n      <th>9</th>\n      <td>M5B</td>\n      <td>Downtown Toronto</td>\n      <td>Garden District, Ryerson</td>\n    </tr>\n  </tbody>\n</table>\n</div>",
                        "text/plain": "  Postal_code           Borough                                 Neighborhood\n0         M3A        North York                                    Parkwoods\n1         M4A        North York                             Victoria Village\n2         M5A  Downtown Toronto                    Regent Park, Harbourfront\n3         M6A        North York             Lawrence Manor, Lawrence Heights\n4         M7A  Downtown Toronto  Queen's Park, Ontario Provincial Government\n5         M9A         Etobicoke                             Islington Avenue\n6         M1B       Scarborough                               Malvern, Rouge\n7         M3B        North York                                    Don Mills\n8         M4B         East York              Parkview Hill, Woodbine Gardens\n9         M5B  Downtown Toronto                     Garden District, Ryerson"
                    },
                    "execution_count": 63,
                    "metadata": {},
                    "output_type": "execute_result"
                }
            ],
            "source": "#get headers:\nheaders=table.findAll('th')\nfor i, head in enumerate(headers):\n    headers[i]=str(headers[i]).replace(\"<th>\",\"\").replace(\"</th>\",\"\").replace(\"\\n\",\"\")\n\n#Find all items and skip first one:\nrows=table.findAll('tr')\nrows=rows[1:len(rows)]\n\n# skip all meta symbols and line feeds between rows:\nfor i, row in enumerate(rows):\n    rows[i] = str(rows[i]).replace(\"\\n</td></tr>\",\"\").replace(\"<tr>\\n<td>\",\"\")\n\n# make dataframe, expand rows and drop the old one:\ndf=pd.DataFrame(rows)\ndf[headers] = df[0].str.split(\"</td>\\n<td>\", n = 2, expand = True) \ndf.drop(columns=[0],inplace=True)\n\n# Rename column name & Remove unneccessary characters remain\ndf.rename(columns={'Postal code':'Postal_code'}, inplace=True)\ndf['Postal_code'] = df['Postal_code'].str.replace('\\n', '')\ndf['Borough'] = df['Borough'].str.replace('\\n', '')\n\n# skip not assigned boroughs:\ndf = df.drop(df[(df.Borough == \"Not assigned\")].index)\n# give \"Not assigned\" Neighborhoods same name as Borough:\ndf.Neighborhood.replace(\"Not assigned\", df.Borough, inplace=True)\n\n# copy Borough value to Neighborhood if NaN:\ndf.Neighborhood.fillna(df.Borough, inplace=True)\n# drop duplicate rows:\ndf=df.drop_duplicates()\n\n# extract titles from columns\ndf.update(df.Neighborhood.loc[lambda x: x.str.contains('title')].str.extract('title=\\\"([^\\\"]*)',expand=False))\ndf.update(df.Borough.loc[lambda x: x.str.contains('title')].str.extract('title=\\\"([^\\\"]*)',expand=False))\n\n# delete Toronto annotation from Neighbourhood:\ndf.update(df.Neighborhood.loc[lambda x: x.str.contains('Toronto')].str.replace(\", Toronto\",\"\"))\ndf.update(df.Neighborhood.loc[lambda x: x.str.contains('Toronto')].str.replace(\"\\(Toronto\\)\",\"\"))\n\n# combine multiple neighborhoods with the same post code\ndf2 = pd.DataFrame({'Postal_code':df.Postal_code.unique()})\ndf2['Borough']=pd.DataFrame(list(set(df['Borough'].loc[df['Postal_code'] == x['Postal_code']])) for i, x in df2.iterrows())\ndf2['Neighborhood']=pd.Series(list(set(df['Neighborhood'].loc[df['Postal_code'] == x['Postal_code']])) for i, x in df2.iterrows())\ndf2['Neighborhood']=df2['Neighborhood'].apply(lambda x: ', '.join(x))\ndf2['Neighborhood']=df2['Neighborhood'].str.replace(' / ', ', ')\ndf2.dtypes\n\ndf2.head(10)"
        },
        {
            "cell_type": "code",
            "execution_count": 66,
            "metadata": {},
            "outputs": [
                {
                    "data": {
                        "text/html": "<div>\n<style scoped>\n    .dataframe tbody tr th:only-of-type {\n        vertical-align: middle;\n    }\n\n    .dataframe tbody tr th {\n        vertical-align: top;\n    }\n\n    .dataframe thead th {\n        text-align: right;\n    }\n</style>\n<table border=\"1\" class=\"dataframe\">\n  <thead>\n    <tr style=\"text-align: right;\">\n      <th></th>\n      <th>Postal_code</th>\n      <th>Borough</th>\n      <th>Neighborhood</th>\n    </tr>\n  </thead>\n  <tbody>\n    <tr>\n      <th>93</th>\n      <td>M8W</td>\n      <td>Etobicoke</td>\n      <td>Alderwood, Long Branch</td>\n    </tr>\n    <tr>\n      <th>94</th>\n      <td>M9W</td>\n      <td>Etobicoke</td>\n      <td>Northwest</td>\n    </tr>\n    <tr>\n      <th>95</th>\n      <td>M1X</td>\n      <td>Scarborough</td>\n      <td>Upper Rouge</td>\n    </tr>\n    <tr>\n      <th>96</th>\n      <td>M4X</td>\n      <td>Downtown Toronto</td>\n      <td>St. James Town, Cabbagetown</td>\n    </tr>\n    <tr>\n      <th>97</th>\n      <td>M5X</td>\n      <td>Downtown Toronto</td>\n      <td>First Canadian Place, Underground city</td>\n    </tr>\n    <tr>\n      <th>98</th>\n      <td>M8X</td>\n      <td>Etobicoke</td>\n      <td>The Kingsway, Montgomery Road , Old Mill North</td>\n    </tr>\n    <tr>\n      <th>99</th>\n      <td>M4Y</td>\n      <td>Downtown Toronto</td>\n      <td>Church and Wellesley</td>\n    </tr>\n    <tr>\n      <th>100</th>\n      <td>M7Y</td>\n      <td>East Toronto</td>\n      <td>Business reply mail Processing Centre</td>\n    </tr>\n    <tr>\n      <th>101</th>\n      <td>M8Y</td>\n      <td>Etobicoke</td>\n      <td>Old Mill South, King's Mill Park, Sunnylea, Hu...</td>\n    </tr>\n    <tr>\n      <th>102</th>\n      <td>M8Z</td>\n      <td>Etobicoke</td>\n      <td>Mimico NW, The Queensway West, South of Bloor,...</td>\n    </tr>\n  </tbody>\n</table>\n</div>",
                        "text/plain": "    Postal_code           Borough  \\\n93          M8W         Etobicoke   \n94          M9W         Etobicoke   \n95          M1X       Scarborough   \n96          M4X  Downtown Toronto   \n97          M5X  Downtown Toronto   \n98          M8X         Etobicoke   \n99          M4Y  Downtown Toronto   \n100         M7Y      East Toronto   \n101         M8Y         Etobicoke   \n102         M8Z         Etobicoke   \n\n                                          Neighborhood  \n93                              Alderwood, Long Branch  \n94                                           Northwest  \n95                                         Upper Rouge  \n96                         St. James Town, Cabbagetown  \n97              First Canadian Place, Underground city  \n98      The Kingsway, Montgomery Road , Old Mill North  \n99                                Church and Wellesley  \n100              Business reply mail Processing Centre  \n101  Old Mill South, King's Mill Park, Sunnylea, Hu...  \n102  Mimico NW, The Queensway West, South of Bloor,...  "
                    },
                    "execution_count": 66,
                    "metadata": {},
                    "output_type": "execute_result"
                }
            ],
            "source": "df2.tail(10)"
        },
        {
            "cell_type": "code",
            "execution_count": null,
            "metadata": {},
            "outputs": [],
            "source": ""
        }
    ],
    "metadata": {
        "kernelspec": {
            "display_name": "Python 3.6",
            "language": "python",
            "name": "python3"
        },
        "language_info": {
            "codemirror_mode": {
                "name": "ipython",
                "version": 3
            },
            "file_extension": ".py",
            "mimetype": "text/x-python",
            "name": "python",
            "nbconvert_exporter": "python",
            "pygments_lexer": "ipython3",
            "version": "3.6.9"
        }
    },
    "nbformat": 4,
    "nbformat_minor": 1
}